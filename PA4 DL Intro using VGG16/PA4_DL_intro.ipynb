{
 "cells": [
  {
   "cell_type": "markdown",
   "metadata": {
    "colab_type": "text",
    "id": "2_-zoh4BoeE3"
   },
   "source": [
    "# CS 436 CS5310 - Computer Vision - Assignment 4\n",
    "\n",
    "*__Submission Instructions:__*\n",
    "- Rename this notebook to `PA4_rollnumber.ipynb` before submission on LMS.\n",
    "- Code for all the tasks must be written in this notebook (you do not need to submit any other files).\n",
    "- The output of all cells must be present in the version of the notebook you submit.\n",
    "- The university honor code should be maintained. Any violation, if found, will result in disciplinary action. "
   ]
  },
  {
   "cell_type": "code",
   "execution_count": 0,
   "metadata": {
    "colab": {},
    "colab_type": "code",
    "id": "iAELrLFBApv7"
   },
   "outputs": [],
   "source": [
    "\n"
   ]
  },
  {
   "cell_type": "markdown",
   "metadata": {
    "colab_type": "text",
    "id": "Pq4cTvYEAwAz"
   },
   "source": [
    "Following are the links that have been used for references to this assignment.\n",
    "\n",
    "https://stackoverflow.com/questions/47555829/preprocess-input-method-in-keras\n",
    "\n",
    "https://www.learnopencv.com/keras-tutorial-fine-tuning-using-pre-trained-models/\n",
    "\n",
    "https://machinelearningmastery.com/save-load-keras-deep-learning-models/\n",
    "\n",
    "https://towardsdatascience.com/getting-started-with-google-colab-f2fff97f594c\n"
   ]
  },
  {
   "cell_type": "code",
   "execution_count": 0,
   "metadata": {
    "colab": {},
    "colab_type": "code",
    "id": "EEgxCPtVoeE-"
   },
   "outputs": [],
   "source": [
    "#Import all the required libraries\n",
    "\n",
    "import numpy as np\n",
    "%matplotlib inline\n",
    "import matplotlib.pyplot as plt\n",
    "plt.style.use('seaborn')\n",
    "import seaborn as sns\n",
    "from keras.models import load_model\n",
    "from keras.applications import vgg16"
   ]
  },
  {
   "cell_type": "code",
   "execution_count": 0,
   "metadata": {
    "colab": {},
    "colab_type": "code",
    "id": "ceS0XWgVxbHp"
   },
   "outputs": [],
   "source": [
    "import pandas as pd\n",
    "from keras import models\n",
    "from keras import layers\n",
    "from keras import optimizers\n",
    "from keras.preprocessing.image import load_img, img_to_array\n",
    "from keras.applications.vgg16 import decode_predictions, preprocess_input"
   ]
  },
  {
   "cell_type": "code",
   "execution_count": 0,
   "metadata": {
    "colab": {},
    "colab_type": "code",
    "id": "o_LuRoM32R3I"
   },
   "outputs": [],
   "source": [
    "import os\n",
    "import sklearn.metrics"
   ]
  },
  {
   "cell_type": "code",
   "execution_count": 2,
   "metadata": {
    "colab": {
     "base_uri": "https://localhost:8080/",
     "height": 55
    },
    "colab_type": "code",
    "executionInfo": {
     "elapsed": 817,
     "status": "ok",
     "timestamp": 1556384598628,
     "user": {
      "displayName": "Ghulam M. Ali",
      "photoUrl": "https://lh3.googleusercontent.com/-UJ15_h_A_Nk/AAAAAAAAAAI/AAAAAAAAAZc/xOjevAf6PDA/s64/photo.jpg",
      "userId": "00342852857140862916"
     },
     "user_tz": -300
    },
    "id": "jSxxl6CXukMR",
    "outputId": "00e59586-3f36-4a8e-f578-e22823a9a924"
   },
   "outputs": [
    {
     "name": "stdout",
     "output_type": "stream",
     "text": [
      "Drive already mounted at /content/gdrive; to attempt to forcibly remount, call drive.mount(\"/content/gdrive\", force_remount=True).\n"
     ]
    }
   ],
   "source": [
    "from google.colab import drive\n",
    "drive.mount('/content/gdrive')\n"
   ]
  },
  {
   "cell_type": "code",
   "execution_count": 70,
   "metadata": {
    "colab": {
     "base_uri": "https://localhost:8080/",
     "height": 90
    },
    "colab_type": "code",
    "executionInfo": {
     "elapsed": 28245,
     "status": "ok",
     "timestamp": 1556388756254,
     "user": {
      "displayName": "Ghulam M. Ali",
      "photoUrl": "https://lh3.googleusercontent.com/-UJ15_h_A_Nk/AAAAAAAAAAI/AAAAAAAAAZc/xOjevAf6PDA/s64/photo.jpg",
      "userId": "00342852857140862916"
     },
     "user_tz": -300
    },
    "id": "VF-TJcJ0uktp",
    "outputId": "da180e0b-01fc-4595-e8bb-33bf82730f30"
   },
   "outputs": [
    {
     "name": "stdout",
     "output_type": "stream",
     "text": [
      "'Computer Vision Fruit Classification Dataset'\t PA4_DeepLearning.ipynb\n",
      " fruits-trainValidate.zip\t\t\t test-multiple_fruits.zip\n",
      "replace test-multiple_fruits/apple.jpg? [y]es, [n]o, [A]ll, [N]one, [r]ename: A\n",
      "replace fruits-360/readme.md? [y]es, [n]o, [A]ll, [N]one, [r]ename: A\n"
     ]
    }
   ],
   "source": [
    "!ls \"/content/gdrive/My Drive/Colab Notebooks\"\n",
    "!unzip -qq \"/content/gdrive/My Drive/Colab Notebooks/test-multiple_fruits.zip\"\n",
    "!unzip -qq \"/content/gdrive/My Drive/Colab Notebooks/fruits-trainValidate.zip\""
   ]
  },
  {
   "cell_type": "code",
   "execution_count": 4,
   "metadata": {
    "colab": {
     "base_uri": "https://localhost:8080/",
     "height": 191
    },
    "colab_type": "code",
    "executionInfo": {
     "elapsed": 963,
     "status": "error",
     "timestamp": 1556383243391,
     "user": {
      "displayName": "Ghulam M. Ali",
      "photoUrl": "https://lh3.googleusercontent.com/-UJ15_h_A_Nk/AAAAAAAAAAI/AAAAAAAAAZc/xOjevAf6PDA/s64/photo.jpg",
      "userId": "00342852857140862916"
     },
     "user_tz": -300
    },
    "id": "H8O9PB9ooeFQ",
    "outputId": "7a5433d8-0933-470a-b21b-5dc0bb316370"
   },
   "outputs": [
    {
     "ename": "TypeError",
     "evalue": "ignored",
     "output_type": "error",
     "traceback": [
      "\u001b[0;31m---------------------------------------------------------------------------\u001b[0m",
      "\u001b[0;31mTypeError\u001b[0m                                 Traceback (most recent call last)",
      "\u001b[0;32m<ipython-input-4-355088e67ccb>\u001b[0m in \u001b[0;36m<module>\u001b[0;34m()\u001b[0m\n\u001b[1;32m      1\u001b[0m \u001b[0mimage_size\u001b[0m \u001b[0;34m=\u001b[0m \u001b[0;36m224\u001b[0m\u001b[0;34m;\u001b[0m\u001b[0;34m\u001b[0m\u001b[0;34m\u001b[0m\u001b[0m\n\u001b[0;32m----> 2\u001b[0;31m \u001b[0mvgg_conv\u001b[0m \u001b[0;34m=\u001b[0m \u001b[0mvgg16\u001b[0m\u001b[0;34m(\u001b[0m\u001b[0mweights\u001b[0m\u001b[0;34m=\u001b[0m\u001b[0;34m'imagenet'\u001b[0m\u001b[0;34m,\u001b[0m \u001b[0minclude_top\u001b[0m\u001b[0;34m=\u001b[0m\u001b[0;32mFalse\u001b[0m\u001b[0;34m,\u001b[0m \u001b[0minput_shape\u001b[0m\u001b[0;34m=\u001b[0m\u001b[0;34m(\u001b[0m\u001b[0mimage_size\u001b[0m\u001b[0;34m,\u001b[0m \u001b[0mimage_size\u001b[0m\u001b[0;34m,\u001b[0m \u001b[0;36m3\u001b[0m\u001b[0;34m)\u001b[0m\u001b[0;34m)\u001b[0m\u001b[0;34m\u001b[0m\u001b[0;34m\u001b[0m\u001b[0m\n\u001b[0m",
      "\u001b[0;31mTypeError\u001b[0m: 'module' object is not callable"
     ]
    }
   ],
   "source": [
    "image_size = 224;\n"
   ]
  },
  {
   "cell_type": "markdown",
   "metadata": {
    "colab_type": "text",
    "id": "Ab8zy03NoeFY",
    "toc-hr-collapsed": false
   },
   "source": [
    "## Overview\n",
    "\n",
    "In this assignment you will be exploring a few important concepts used in the deep learning projects:\n",
    "- Training image classification algorithms using Deep Learning\n",
    "- Dataset Analyses \n",
    "- Testing deep learning classifier with the test data\n",
    "- Fine-tuning / Transfer Learning\n",
    "\n",
    "We will be using a customized datasets, the links to download the data are provided to you. You will also be working with pretrained models, which could be downloaded from keras applications. You are **highly** encouraged to explore the images in dataset and model architectures in order to get the most out of this assignment. \n",
    "\n",
    "**_Dataset:_**\n",
    "- D1- Test Data for evaluating the pretrained model (VGG-16) can be found in the folder \"test-multiple_fruits\" [here](https://drive.google.com/drive/folders/1ViePNUqS3LmPkaW6vJ1cRb4YGyIkWpqz?usp=sharing)\n",
    "- D2- Data to be used for fine-tuning VGG-16 for 75 classes of fruits could be downloaded from the same link in the folder \"fruits-trainValidate\"\n",
    "\n",
    "\n",
    "**_Pretrained Models:_** \n",
    "Can be found [here](https://keras.io/applications/#applications)\n"
   ]
  },
  {
   "cell_type": "markdown",
   "metadata": {
    "colab_type": "text",
    "id": "WrrGSQ5KpeLC"
   },
   "source": []
  },
  {
   "cell_type": "markdown",
   "metadata": {
    "colab_type": "text",
    "id": "QxkPbwisoeFb"
   },
   "source": [
    "## Task 1: Data Preparation\n",
    "\n",
    "Evaluate the performance of a pretrained network (VGG-16) for the test-multiple_fruits data downloaded by predicting labels of each image. You will:\n",
    "- Download the VGG16 model and compile it with pretrained weights from imagenet.\n",
    "- Obtain predictions for the test-multiple_fruits D1 dataset\n",
    "- Print the predictions for all the test image from D1"
   ]
  },
  {
   "cell_type": "code",
   "execution_count": 0,
   "metadata": {
    "colab": {},
    "colab_type": "code",
    "id": "b9ihGEh-wsUo"
   },
   "outputs": [],
   "source": [
    "model = vgg16.VGG16(include_top=True, weights='imagenet', input_tensor=None, input_shape=None, pooling=None, classes=1000)"
   ]
  },
  {
   "cell_type": "code",
   "execution_count": 0,
   "metadata": {
    "colab": {},
    "colab_type": "code",
    "id": "ljdUi8aAoeFk"
   },
   "outputs": [],
   "source": [
    "def pretrained_test(model, img, fruit_name):\n",
    "  img = img_to_array(img)\n",
    "  img = img.reshape((1, img.shape[0], img.shape[1], img.shape[2]))\n",
    "  img = vgg16.preprocess_input(img)\n",
    "  prediction = model.predict(img)\n",
    "  pred_name = vgg16.decode_predictions(prediction)\n",
    "  top_pred = pred_name[0][0]\n",
    "  print('Original fruit: ', fruit_name[:len(fruit_name)-4], '   Predicted Fruit: %s (%.2f%%)' % (top_pred[1], top_pred[2]*100))\n",
    "   \n",
    "# Hints\n",
    "#vgg16_pretrained = load_model(...)\n",
    "#vgg16_pretrained.summary()\n",
    "#vgg16_pretrained.compile(...)\n",
    "\n",
    "#vgg16.predict(...)"
   ]
  },
  {
   "cell_type": "code",
   "execution_count": 66,
   "metadata": {
    "colab": {
     "base_uri": "https://localhost:8080/",
     "height": 864
    },
    "colab_type": "code",
    "executionInfo": {
     "elapsed": 9754,
     "status": "ok",
     "timestamp": 1556388661412,
     "user": {
      "displayName": "Ghulam M. Ali",
      "photoUrl": "https://lh3.googleusercontent.com/-UJ15_h_A_Nk/AAAAAAAAAAI/AAAAAAAAAZc/xOjevAf6PDA/s64/photo.jpg",
      "userId": "00342852857140862916"
     },
     "user_tz": -300
    },
    "id": "ChFc9xQwwsxQ",
    "outputId": "803d0fec-a573-4f54-a87a-0739b72b9c06"
   },
   "outputs": [
    {
     "name": "stdout",
     "output_type": "stream",
     "text": [
      "Original fruit:  kachi    Predicted Fruit: lemon (28.92%)\n",
      "Original fruit:  cherry_strawberries    Predicted Fruit: guacamole (62.88%)\n",
      "Original fruit:  raspberry5    Predicted Fruit: strawberry (74.01%)\n",
      "Original fruit:  pomegranate    Predicted Fruit: pomegranate (65.32%)\n",
      "Original fruit:  dates    Predicted Fruit: abacus (38.20%)\n",
      "Original fruit:  grape_pear_mandarine2    Predicted Fruit: fig (82.88%)\n",
      "Original fruit:  physalis    Predicted Fruit: rotisserie (62.49%)\n",
      "Original fruit:  huckleberry    Predicted Fruit: honeycomb (53.67%)\n",
      "Original fruit:  raspberry_apple    Predicted Fruit: buckeye (61.51%)\n",
      "Original fruit:  strawberries4    Predicted Fruit: strawberry (93.30%)\n",
      "Original fruit:  apple_apricot_peach_peach(flat)_pomegranate_pear_plum    Predicted Fruit: tray (28.33%)\n",
      "Original fruit:  tangelo    Predicted Fruit: orange (87.63%)\n",
      "Original fruit:  strawberries    Predicted Fruit: pot (29.19%)\n",
      "Original fruit:  cherry_strawberries2    Predicted Fruit: cucumber (15.12%)\n",
      "Original fruit:  kiwi    Predicted Fruit: grocery_store (29.84%)\n",
      "Original fruit:  apple_pear    Predicted Fruit: pomegranate (24.42%)\n",
      "Original fruit:  cocos_kiwi_orange_dates_salak_plum_tamarilo_maracuja3    Predicted Fruit: bucket (21.57%)\n",
      "Original fruit:  apple_grape2    Predicted Fruit: butternut_squash (10.44%)\n",
      "Original fruit:  pomegranate2    Predicted Fruit: orange (59.01%)\n",
      "Original fruit:  pear    Predicted Fruit: pineapple (22.97%)\n",
      "Original fruit:  apple_apricot_nectarine_peach_peach(flat)_pomegranate_pear_plum    Predicted Fruit: fig (28.73%)\n",
      "Original fruit:  cherry2    Predicted Fruit: buckeye (6.36%)\n",
      "Original fruit:  apple_grape    Predicted Fruit: pomegranate (17.86%)\n",
      "Original fruit:  cocos_kiwi_orange_dates_salak_plum_tamarilo_maracuja    Predicted Fruit: strawberry (30.33%)\n",
      "Original fruit:  apple    Predicted Fruit: Granny_Smith (70.41%)\n",
      "Original fruit:  cherry3    Predicted Fruit: hip (32.14%)\n",
      "Original fruit:  salak2    Predicted Fruit: hermit_crab (20.62%)\n",
      "Original fruit:  grape_pear_mandarine    Predicted Fruit: hotdog (49.03%)\n",
      "Original fruit:  strawberries2    Predicted Fruit: daisy (18.28%)\n",
      "Original fruit:  apple_apricot_peach_peach(flat)_pomegranate_pear_plum_3    Predicted Fruit: tray (38.76%)\n",
      "Original fruit:  cherry(rainier)    Predicted Fruit: hip (67.51%)\n",
      "Original fruit:  apple_apricot_peach_peach(flat)_pomegranate_pear_plum_2    Predicted Fruit: pomegranate (35.17%)\n",
      "Original fruit:  limes    Predicted Fruit: Granny_Smith (68.36%)\n",
      "Original fruit:  physalis2    Predicted Fruit: corn (31.64%)\n",
      "Original fruit:  raspberry    Predicted Fruit: strawberry (61.05%)\n",
      "Original fruit:  cherry    Predicted Fruit: barrow (11.06%)\n",
      "Original fruit:  mango    Predicted Fruit: Granny_Smith (97.14%)\n",
      "Original fruit:  raspberry3    Predicted Fruit: greenhouse (29.44%)\n",
      "Original fruit:  cocos    Predicted Fruit: teddy (13.77%)\n",
      "Original fruit:  raspberry4    Predicted Fruit: mixing_bowl (31.71%)\n",
      "Original fruit:  lychee    Predicted Fruit: custard_apple (84.63%)\n",
      "Original fruit:  raspberry2    Predicted Fruit: hip (23.56%)\n",
      "Original fruit:  salak    Predicted Fruit: strawberry (41.33%)\n",
      "Original fruit:  strawberries3    Predicted Fruit: pot (47.05%)\n",
      "Original fruit:  cocos_kiwi_orange_dates_salak_plum_tamarilo_maracuja2    Predicted Fruit: strawberry (25.86%)\n"
     ]
    }
   ],
   "source": [
    "dataset1_path = 'test-multiple_fruits/'\n",
    "image_size = (224, 224)\n",
    "for fruit_name in os.listdir(dataset1_path):\n",
    "    image = load_img(dataset1_path+fruit_name, target_size= image_size)\n",
    "    pretrained_test(model, image, fruit_name)"
   ]
  },
  {
   "cell_type": "markdown",
   "metadata": {
    "colab_type": "text",
    "id": "OB-M-udLoeFx"
   },
   "source": [
    "## Batch Generator for Task 2\n",
    "You could either use this batch image generator or could write your own batch generator if required for fine-tunning"
   ]
  },
  {
   "cell_type": "code",
   "execution_count": 71,
   "metadata": {
    "colab": {
     "base_uri": "https://localhost:8080/",
     "height": 54
    },
    "colab_type": "code",
    "executionInfo": {
     "elapsed": 2407,
     "status": "ok",
     "timestamp": 1556388767314,
     "user": {
      "displayName": "Ghulam M. Ali",
      "photoUrl": "https://lh3.googleusercontent.com/-UJ15_h_A_Nk/AAAAAAAAAAI/AAAAAAAAAZc/xOjevAf6PDA/s64/photo.jpg",
      "userId": "00342852857140862916"
     },
     "user_tz": -300
    },
    "id": "wmoWgM8HoeF0",
    "outputId": "bbd1c62a-0ad3-4aaf-a60c-132d34394e27"
   },
   "outputs": [
    {
     "name": "stdout",
     "output_type": "stream",
     "text": [
      "Found 37836 images belonging to 75 classes.\n",
      "Found 12709 images belonging to 75 classes.\n"
     ]
    }
   ],
   "source": [
    "# Image Augmentation\n",
    "#Replace the input training/validation directories with the path to your training and validation splits\n",
    "from keras.preprocessing.image import ImageDataGenerator\n",
    "from keras.applications.vgg16 import preprocess_input\n",
    "\n",
    "training_datagen = ImageDataGenerator(\n",
    "                                    rescale=1./255,   # all pixel values will be between 0 an 1\n",
    "                                    shear_range=0.2, \n",
    "                                    zoom_range=0.2,\n",
    "                                    horizontal_flip=True,\n",
    "                                    preprocessing_function=preprocess_input)\n",
    "\n",
    "validation_datagen = ImageDataGenerator(rescale = 1./255, preprocessing_function=preprocess_input)\n",
    "\n",
    "training_generator = training_datagen.flow_from_directory('fruits-360/Training/', target_size = (75, 75), batch_size = 200, class_mode = 'categorical')\n",
    "validation_generator = validation_datagen.flow_from_directory('fruits-360/Validation/', target_size = (75,75), batch_size = 200, class_mode = 'categorical')"
   ]
  },
  {
   "cell_type": "markdown",
   "metadata": {
    "colab_type": "text",
    "id": "pYaF1CnPoeF8"
   },
   "source": [
    "## Task 2: Transfer Learning\n",
    "\n",
    "Next you will employ Transfer Learning and finetune the pretrained vgg-16 model you used in Task1 to better fit the fine-tune dataset D2 for 75 classes of fruits (details available in the readme file of dataset folder). You will:\n",
    "\n",
    "- Change the number of nodes in the last FC layer according to the number of classes i.e. 5 \n",
    "- Freeze everything except the FC layers and train it using the train split of D2 (using appropriate hyperparameters), validating the network for validation split of data.\n",
    "- Train (Finetune) the dataset with training split and validate it using validation split\n",
    "- Plot loss/accuracy vs epochs curves for your simulation\n",
    "\n",
    "*You can use scikit-learn's `metrics.confusion_matrix` function. Consult the relevant documentation.* \n"
   ]
  },
  {
   "cell_type": "code",
   "execution_count": 73,
   "metadata": {
    "colab": {
     "base_uri": "https://localhost:8080/",
     "height": 348
    },
    "colab_type": "code",
    "executionInfo": {
     "elapsed": 1948,
     "status": "ok",
     "timestamp": 1556388815503,
     "user": {
      "displayName": "Ghulam M. Ali",
      "photoUrl": "https://lh3.googleusercontent.com/-UJ15_h_A_Nk/AAAAAAAAAAI/AAAAAAAAAZc/xOjevAf6PDA/s64/photo.jpg",
      "userId": "00342852857140862916"
     },
     "user_tz": -300
    },
    "id": "klu9l5G9oeF-",
    "outputId": "9171c9d5-886e-40cb-810a-eb759fda4423"
   },
   "outputs": [
    {
     "name": "stdout",
     "output_type": "stream",
     "text": [
      "_________________________________________________________________\n",
      "Layer (type)                 Output Shape              Param #   \n",
      "=================================================================\n",
      "vgg16 (Model)                (None, 3, 3, 512)         14714688  \n",
      "_________________________________________________________________\n",
      "flatten_8 (Flatten)          (None, 4608)              0         \n",
      "_________________________________________________________________\n",
      "dense_15 (Dense)             (None, 75)                345675    \n",
      "_________________________________________________________________\n",
      "dropout_8 (Dropout)          (None, 75)                0         \n",
      "_________________________________________________________________\n",
      "dense_16 (Dense)             (None, 75)                5700      \n",
      "=================================================================\n",
      "Total params: 15,066,063\n",
      "Trainable params: 351,375\n",
      "Non-trainable params: 14,714,688\n",
      "_________________________________________________________________\n",
      "None\n"
     ]
    }
   ],
   "source": [
    "tensor_shape = layers.Input(shape=(75,75,3))\n",
    "\n",
    "\n",
    "#def finetune_test(...):\n",
    "#    pass\n",
    "\n",
    "# Hints\n",
    "vgg_imagenet = vgg16.VGG16(include_top=False, weights='imagenet', input_tensor= tensor_shape)\n",
    "for lyr in vgg_imagenet.layers:\n",
    "    lyr.trainable = False\n",
    "    #lyr.freeze = True\n",
    "\n",
    "# add new FC layers here\n",
    "alter_model = models.Sequential()\n",
    "alter_model.add(vgg_imagenet)\n",
    "\n",
    "alter_model.add(layers.Flatten())\n",
    "alter_model.add(layers.Dense(75, activation='relu'))\n",
    "alter_model.add(layers.Dropout(0.2))\n",
    "alter_model.add(layers.Dense(75, activation='softmax'))\n",
    "\n",
    "# print summary and compile\n",
    "print(alter_model.summary())\n",
    "alter_model.compile(loss='categorical_crossentropy',\n",
    "              optimizer=optimizers.RMSprop(lr=1e-4),\n",
    "              metrics=['acc'])"
   ]
  },
  {
   "cell_type": "code",
   "execution_count": 74,
   "metadata": {
    "colab": {
     "base_uri": "https://localhost:8080/",
     "height": 404
    },
    "colab_type": "code",
    "executionInfo": {
     "elapsed": 765049,
     "status": "ok",
     "timestamp": 1556389582405,
     "user": {
      "displayName": "Ghulam M. Ali",
      "photoUrl": "https://lh3.googleusercontent.com/-UJ15_h_A_Nk/AAAAAAAAAAI/AAAAAAAAAZc/xOjevAf6PDA/s64/photo.jpg",
      "userId": "00342852857140862916"
     },
     "user_tz": -300
    },
    "id": "C5V37yCkoeGL",
    "outputId": "d08f87da-8c07-49f6-eae6-0d8c5df40718"
   },
   "outputs": [
    {
     "name": "stdout",
     "output_type": "stream",
     "text": [
      "Epoch 1/10\n",
      "100/100 [==============================] - 86s 862ms/step - loss: 3.8853 - acc: 0.1261 - val_loss: 3.4354 - val_acc: 0.2688\n",
      "Epoch 2/10\n",
      "100/100 [==============================] - 75s 753ms/step - loss: 3.1220 - acc: 0.3229 - val_loss: 2.7202 - val_acc: 0.5270\n",
      "Epoch 3/10\n",
      "100/100 [==============================] - 75s 752ms/step - loss: 2.5410 - acc: 0.4599 - val_loss: 2.1688 - val_acc: 0.6485\n",
      "Epoch 4/10\n",
      "100/100 [==============================] - 75s 750ms/step - loss: 2.0951 - acc: 0.5495 - val_loss: 1.7357 - val_acc: 0.7420\n",
      "Epoch 5/10\n",
      "100/100 [==============================] - 76s 756ms/step - loss: 1.7545 - acc: 0.6146 - val_loss: 1.4291 - val_acc: 0.7651\n",
      "Epoch 6/10\n",
      "100/100 [==============================] - 76s 759ms/step - loss: 1.4739 - acc: 0.6668 - val_loss: 1.1917 - val_acc: 0.8079\n",
      "Epoch 7/10\n",
      "100/100 [==============================] - 75s 751ms/step - loss: 1.2832 - acc: 0.7036 - val_loss: 1.0241 - val_acc: 0.8428\n",
      "Epoch 8/10\n",
      "100/100 [==============================] - 75s 748ms/step - loss: 1.1152 - acc: 0.7394 - val_loss: 0.8840 - val_acc: 0.8617\n",
      "Epoch 9/10\n",
      "100/100 [==============================] - 75s 751ms/step - loss: 0.9980 - acc: 0.7622 - val_loss: 0.7775 - val_acc: 0.8713\n",
      "Epoch 10/10\n",
      "100/100 [==============================] - 75s 749ms/step - loss: 0.8823 - acc: 0.7854 - val_loss: 0.6875 - val_acc: 0.8925\n"
     ]
    }
   ],
   "source": [
    "#Loss accuracy curves using matplot lib\n",
    "history = alter_model.fit_generator(\n",
    "        training_generator,\n",
    "        steps_per_epoch=75,\n",
    "        epochs=10,\n",
    "        verbose=1,\n",
    "        validation_data=validation_generator,\n",
    "        validation_steps=75)\n",
    "\n",
    "alter_model.save('alter_model.h5')  "
   ]
  },
  {
   "cell_type": "code",
   "execution_count": 75,
   "metadata": {
    "colab": {
     "base_uri": "https://localhost:8080/",
     "height": 707
    },
    "colab_type": "code",
    "executionInfo": {
     "elapsed": 2261,
     "status": "ok",
     "timestamp": 1556389653202,
     "user": {
      "displayName": "Ghulam M. Ali",
      "photoUrl": "https://lh3.googleusercontent.com/-UJ15_h_A_Nk/AAAAAAAAAAI/AAAAAAAAAZc/xOjevAf6PDA/s64/photo.jpg",
      "userId": "00342852857140862916"
     },
     "user_tz": -300
    },
    "id": "LsjRzF9WAkMi",
    "outputId": "cc2acf0b-d88a-46ae-8e9d-712b9d9aa831"
   },
   "outputs": [
    {
     "data": {
      "image/png": "[encoded data removed]",
      "text/plain": [
       "<Figure size 576x396 with 1 Axes>"
      ]
     },
     "metadata": {
      "tags": []
     },
     "output_type": "display_data"
    },
    {
     "data": {
      "image/png": "[encoded data removed]",
      "text/plain": [
       "<Figure size 576x396 with 1 Axes>"
      ]
     },
     "metadata": {
      "tags": []
     },
     "output_type": "display_data"
    }
   ],
   "source": [
    "#copied from learnopencv link given above\n",
    "\n",
    "acc = history.history['acc']\n",
    "val_acc = history.history['val_acc']\n",
    "loss = history.history['loss']\n",
    "val_loss = history.history['val_loss']\n",
    " \n",
    "epochs = range(len(acc))\n",
    " \n",
    "plt.plot(epochs, acc, 'b', label='Training acc')\n",
    "plt.plot(epochs, val_acc, 'r', label='Validation acc')\n",
    "plt.title('Training and validation accuracy')\n",
    "plt.legend()\n",
    " \n",
    "plt.figure()\n",
    " \n",
    "plt.plot(epochs, loss, 'b', label='Training loss')\n",
    "plt.plot(epochs, val_loss, 'r', label='Validation loss')\n",
    "plt.title('Training and validation loss')\n",
    "plt.legend()\n",
    " \n",
    "plt.show()"
   ]
  },
  {
   "cell_type": "markdown",
   "metadata": {
    "colab_type": "text",
    "id": "Xwg7d8HboeGW"
   },
   "source": [
    "## Task 3: Network Evaluation\n",
    "\n",
    "Next you will test your finetuned model by plotting a confusion matrix between classes predicted. You will:\n",
    "\n",
    "- Load the saved finetuned network\n",
    "- Test your model for images in validation folder of D2\n",
    "- Construct a multiclass confusion matrix (for any 10 classes) for actual and predicted class of each image and visualize the confmatrix as a heatmap\n",
    "\n",
    "*You can use scikit-learn's `metrics.confusion_matrix` function. Consult the relevant documentation.* "
   ]
  },
  {
   "cell_type": "code",
   "execution_count": 76,
   "metadata": {
    "colab": {
     "base_uri": "https://localhost:8080/",
     "height": 35
    },
    "colab_type": "code",
    "executionInfo": {
     "elapsed": 3586,
     "status": "ok",
     "timestamp": 1556389737434,
     "user": {
      "displayName": "Ghulam M. Ali",
      "photoUrl": "https://lh3.googleusercontent.com/-UJ15_h_A_Nk/AAAAAAAAAAI/AAAAAAAAAZc/xOjevAf6PDA/s64/photo.jpg",
      "userId": "00342852857140862916"
     },
     "user_tz": -300
    },
    "id": "ccefE8eEoeGd",
    "outputId": "14d53f7e-0fe8-4088-cbef-5078bf528049"
   },
   "outputs": [
    {
     "name": "stdout",
     "output_type": "stream",
     "text": [
      "Found 12709 images belonging to 75 classes.\n"
     ]
    }
   ],
   "source": [
    "loaded_model = load_model('alter_model.h5')\n",
    "\n",
    "valid_generator = validation_datagen.flow_from_directory('fruits-360/Validation/', target_size = (75, 75), batch_size = 200, class_mode = 'categorical')\n",
    " "
   ]
  },
  {
   "cell_type": "code",
   "execution_count": 77,
   "metadata": {
    "colab": {
     "base_uri": "https://localhost:8080/",
     "height": 35
    },
    "colab_type": "code",
    "executionInfo": {
     "elapsed": 16285,
     "status": "ok",
     "timestamp": 1556389762243,
     "user": {
      "displayName": "Ghulam M. Ali",
      "photoUrl": "https://lh3.googleusercontent.com/-UJ15_h_A_Nk/AAAAAAAAAAI/AAAAAAAAAZc/xOjevAf6PDA/s64/photo.jpg",
      "userId": "00342852857140862916"
     },
     "user_tz": -300
    },
    "id": "y69fY5y2DccN",
    "outputId": "22f33d51-980e-44af-e8c3-aa8bbc7ee48e"
   },
   "outputs": [
    {
     "name": "stdout",
     "output_type": "stream",
     "text": [
      "64/63 [==============================] - 16s 247ms/step\n"
     ]
    }
   ],
   "source": [
    "predictions =loaded_model.predict_generator(valid_generator, steps=valid_generator.samples/valid_generator.batch_size,verbose=1)\n",
    "predicted_classes = np.argmax(predictions,axis=1)"
   ]
  },
  {
   "cell_type": "code",
   "execution_count": 83,
   "metadata": {
    "colab": {
     "base_uri": "https://localhost:8080/",
     "height": 191
    },
    "colab_type": "code",
    "executionInfo": {
     "elapsed": 664,
     "status": "error",
     "timestamp": 1556390584134,
     "user": {
      "displayName": "Ghulam M. Ali",
      "photoUrl": "https://lh3.googleusercontent.com/-UJ15_h_A_Nk/AAAAAAAAAAI/AAAAAAAAAZc/xOjevAf6PDA/s64/photo.jpg",
      "userId": "00342852857140862916"
     },
     "user_tz": -300
    },
    "id": "iMjrbVcJDc0s",
    "outputId": "76d7ea50-1e3f-46a3-837b-ad9c8a3b85be"
   },
   "outputs": [
    {
     "ename": "NameError",
     "evalue": "ignored",
     "output_type": "error",
     "traceback": [
      "\u001b[0;31m---------------------------------------------------------------------------\u001b[0m",
      "\u001b[0;31mNameError\u001b[0m                                 Traceback (most recent call last)",
      "\u001b[0;32m<ipython-input-83-bfad7e91c69f>\u001b[0m in \u001b[0;36m<module>\u001b[0;34m()\u001b[0m\n\u001b[0;32m----> 1\u001b[0;31m \u001b[0mconfusion_matrix\u001b[0m \u001b[0;34m=\u001b[0m \u001b[0msklearn\u001b[0m\u001b[0;34m.\u001b[0m\u001b[0mmetrics\u001b[0m\u001b[0;34m.\u001b[0m\u001b[0mconfusion_matrix\u001b[0m\u001b[0;34m(\u001b[0m\u001b[0mlabels\u001b[0m\u001b[0;34m,\u001b[0m \u001b[0mpredicted_classes\u001b[0m\u001b[0;34m)\u001b[0m\u001b[0;34m\u001b[0m\u001b[0;34m\u001b[0m\u001b[0m\n\u001b[0m\u001b[1;32m      2\u001b[0m \u001b[0mprint\u001b[0m\u001b[0;34m(\u001b[0m\u001b[0mconfusion_matrix\u001b[0m\u001b[0;34m[\u001b[0m\u001b[0;36m0\u001b[0m\u001b[0;34m:\u001b[0m\u001b[0;36m10\u001b[0m\u001b[0;34m,\u001b[0m \u001b[0;36m0\u001b[0m\u001b[0;34m:\u001b[0m\u001b[0;36m10\u001b[0m\u001b[0;34m]\u001b[0m\u001b[0;34m)\u001b[0m\u001b[0;34m\u001b[0m\u001b[0;34m\u001b[0m\u001b[0m\n",
      "\u001b[0;31mNameError\u001b[0m: name 'labels' is not defined"
     ]
    }
   ],
   "source": [
    "#couldn't get how to get actual labels from validation data :(\n",
    "#otherwise rest of confusion matrix is simple ^_^\n",
    "\n",
    "confusion_matrix = sklearn.metrics.confusion_matrix(labels, predicted_classes)\n",
    "print(confusion_matrix[0:10, 0:10])\n"
   ]
  },
  {
   "cell_type": "code",
   "execution_count": 0,
   "metadata": {
    "colab": {},
    "colab_type": "code",
    "id": "ink7amu-HPCu"
   },
   "outputs": [],
   "source": [
    "dataframe = pd.DataFrame(confusion_matrix[0:10, 0:10], range(10), range(10))\n",
    "fig, ax = plt.subplots(figsize=(15,15))\n",
    "sns.set(font_scale=1.2) \n",
    "sns.heatmap(dataframe, annot=True,annot_kws={\"size\": 12})"
   ]
  },
  {
   "cell_type": "markdown",
   "metadata": {
    "colab_type": "text",
    "id": "Kos-GFFwoeGs"
   },
   "source": [
    "## Task 4: Prediction\n",
    "\n",
    "Next you will test your finetuned model for test-multiple_fruits images and compare the result with the results of Task 1. You will:\n",
    "\n",
    "- Predict labels for images in test-multiple_fruits D1 folder using finetuned network\n",
    "- Compare your result qualitativly and quatitatively (by visualizing some of the comparing images with their respective labels)\n",
    "- Analyse and discuss the improvement of results (if found any)\n"
   ]
  },
  {
   "cell_type": "code",
   "execution_count": 0,
   "metadata": {
    "colab": {},
    "colab_type": "code",
    "id": "VHuqQlcAoeGu"
   },
   "outputs": [],
   "source": []
  }
 ],
 "metadata": {
  "accelerator": "GPU",
  "colab": {
   "collapsed_sections": [],
   "name": "PA4_DeepLearning.ipynb",
   "provenance": [],
   "toc_visible": true,
   "version": "0.3.2"
  },
  "kernelspec": {
   "display_name": "Python 3",
   "language": "python",
   "name": "python3"
  },
  "language_info": {
   "codemirror_mode": {
    "name": "ipython",
    "version": 3
   },
   "file_extension": ".py",
   "mimetype": "text/x-python",
   "name": "python",
   "nbconvert_exporter": "python",
   "pygments_lexer": "ipython3",
   "version": "3.7.2"
  }
 },
 "nbformat": 4,
 "nbformat_minor": 1
}
